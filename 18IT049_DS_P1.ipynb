 

pip install pandas

Requirement already satisfied: pandas in /usr/local/lib/python3.7/dist-packages (1.1.5) Requirement already satisfied: numpy>=1.15.4 in /usr/local/lib/python3.7/dist-packages Requirement already satisfied: pytz>=2017.2 in /usr/local/lib/python3.7/dist-packages ( Requirement  already  satisfied:  python-dateutil>=2.7.3  in /usr/local/lib/python3.7/dist-
Requirement  already  satisfied:  six>=1.5  in  /usr/local/lib/python3.7/dist-packages  (from


pip install requests

Requirement already satisfied: requests in /usr/local/lib/python3.7/dist-packages (2.23 Requirement already satisfied: urllib3!=1.25.0,!=1.25.1,<1.26,>=1.21.1 in /usr/local/li Requirement already satisfied: chardet<4,>=3.0.2 in /usr/local/lib/python3.7/dist-packa Requirement already satisfied: idna<3,>=2.5 in /usr/local/lib/python3.7/dist-packages (
Requirement already satisfied: certifi>=2017.4.17 in /usr/local/lib/python3.7/dist-pack


pip install bs4

Requirement already satisfied: bs4 in /usr/local/lib/python3.7/dist-packages (0.0.1)
Requirement already satisfied: beautifulsoup4 in /usr/local/lib/python3.7/dist-packages


from bs4 import BeautifulSoup import requests
import csv

import pandas as pd


url='https://www.flipkart.com/mobiles/pr?sid=tyy%2C4io&p%5B%5D=facets.brand%255B%255D%3DAsus&
 


req=requests.get(url)


content=BeautifulSoup(req.content,'html.parser')


name=content.find_all('div',{"class":"_4rR01T"})
price=content.find_all('div',{"class":"_30jeq3 _1_WHN1"})



nm=[]
pr=[]
 

for i in name:
nm.append(i.text) for i in price:
pr.append(i.text)



data={'Name':nm,'Price':pr} df=pd.DataFrame(data)


print(df)

Name	Price
0	ASUS ROG Phone 5 (Black, 128 GB)	₹49,999
1	ASUS ROG Phone 3 (Black, 128 GB)	₹39,999
2	ASUS ROG Phone 3 (Black, 128 GB)	₹43,999
3	ASUS ZenFone 5Z (Midnight Blue, 128	GB)	₹36,299
4	ASUS ZenFone 5Z (Meteor Silver, 128	GB)	₹36,299
5	ASUS Zenfone Selfie (Silver, 16	GB)	₹14,999
6	ASUS ROG Phone 5 (Black, 256	GB)	₹57,999
7	ASUS Zenfone Go (Gold, 8	GB)	₹5,299
8	ASUS Zenfone Go 5.5 (Gold, 32	GB)	₹6,999
9	ASUS Zenfone Go (2nd Gen) (Red, 8	GB)	₹5,299
10	ASUS Zenfone Go (Silver, 8	GB)	₹5,299
11	ASUS ZenFone Lite L1 (Gold, 16	GB)	₹7,199
12	ASUS ZenFone Lite L1 (Black, 16	GB)	₹7,199
13	ASUS ROG Phone 5 (White, 128	GB)	₹49,999
14	ASUS ROG (Black, 128	GB)	₹26,499
15	ASUS Zenfone Selfie (Aqua Blue, 32	GB)	₹16,999
16	ASUS Zenfone Go 5.0 (Black, 8	GB)	₹7,999
17	ASUS Zenfone Go (Silver, 8	GB)	₹5,699
18	ASUS Zenfone Go 4.5 LTE (Red, 8	GB)	₹7,499
19	ASUS Zenfone Go 4.5 (Pink, 8	GB)	₹5,299
20	ASUS Zenfone Go (Silver Blue, 8	GB)	₹5,699
21	ASUS Zenfone Max Pro M1 (Grey, 64	GB)	₹17,999
22	ASUS Zenfone C (Red, 8	GB)	₹6,299
23	ASUS Zenfone C (White, 8	GB)	₹6,299


df.to_csv('18it049_brijeshkher.csv')
 














 

